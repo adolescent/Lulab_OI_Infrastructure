{
 "cells": [
  {
   "attachments": {},
   "cell_type": "markdown",
   "metadata": {},
   "source": [
    "### Correlation Methods\n",
    "This demo will show you several method of direct correlation method.    \n",
    "Direct correlation is easy but less sensitive way for functional connection analysis.    \n",
    "#### **Methods below includes**:\n",
    "1. Seed point Correlation(window-slide)\n",
    "    \n",
    "2. Correlation matrix (window-slide)\n",
    "    \n",
    "3. Contralateral similarity calculation    \n",
    "    \n",
    "4. 2-area(can combine area as required) specturm analysis(wavelet and slide window fourier)\n",
    "    \n",
    "5. Phase Locking Analysis(Hilbert transform)\n",
    "___"
   ]
  },
  {
   "cell_type": "code",
   "execution_count": 1,
   "metadata": {},
   "outputs": [],
   "source": [
    "# import and basic path part\n",
    "import Common_Functions as cf\n",
    "import numpy as np\n",
    "import matplotlib.pyplot as plt\n",
    "import seaborn as sns\n",
    "import cv2\n",
    "from tqdm import tqdm\n",
    "import pandas as pd\n",
    "from Atlas_Corr_Tools import Atlas_Data_Tools,Contra_Similar\n",
    "\n",
    "wp = r'D:\\ZR\\_Data_Temp\\Ois200_Data\\Full_Demo\\Preprocessed'\n",
    "series = np.load(cf.join(wp,'z_series.npy'))\n",
    "mask = cv2.imread(cf.join(wp,'Chamber_mask.png'),0)>0\n",
    "series = np.clip(series,-3,3)*mask\n"
   ]
  },
  {
   "cell_type": "code",
   "execution_count": null,
   "metadata": {},
   "outputs": [],
   "source": []
  }
 ],
 "metadata": {
  "kernelspec": {
   "display_name": "Lulab_OI_Env",
   "language": "python",
   "name": "python3"
  },
  "language_info": {
   "codemirror_mode": {
    "name": "ipython",
    "version": 3
   },
   "file_extension": ".py",
   "mimetype": "text/x-python",
   "name": "python",
   "nbconvert_exporter": "python",
   "pygments_lexer": "ipython3",
   "version": "3.10.6"
  },
  "orig_nbformat": 4
 },
 "nbformat": 4,
 "nbformat_minor": 2
}

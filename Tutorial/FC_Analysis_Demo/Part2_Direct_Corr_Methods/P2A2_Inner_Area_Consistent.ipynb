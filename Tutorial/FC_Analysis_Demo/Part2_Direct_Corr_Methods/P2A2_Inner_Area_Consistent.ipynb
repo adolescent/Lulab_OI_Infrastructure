{
 "cells": [
  {
   "cell_type": "markdown",
   "metadata": {},
   "source": [
    "#### **Methods below includes**:\n",
    "\n",
    "4. Correlation distribution inside a brain area\n",
    "5. Inner consistency distribution map\n",
    "\n",
    "**Be aware that pix num of each brain area might affect this in value.**"
   ]
  },
  {
   "cell_type": "code",
   "execution_count": null,
   "metadata": {},
   "outputs": [],
   "source": []
  },
  {
   "cell_type": "code",
   "execution_count": null,
   "metadata": {},
   "outputs": [],
   "source": []
  }
 ],
 "metadata": {
  "language_info": {
   "name": "python"
  },
  "orig_nbformat": 4
 },
 "nbformat": 4,
 "nbformat_minor": 2
}
